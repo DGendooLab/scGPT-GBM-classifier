{
  "cells": [
    {
      "cell_type": "markdown",
      "metadata": {
        "id": "view-in-github",
        "colab_type": "text"
      },
      "source": [
        "<a href=\"https://colab.research.google.com/github/DGendooLab/scGPT-GBM-classifier/blob/main/testing_examples/TESTING_DOWNSAMPLE_scGPT_Embedding_Tasks_GBM_Classifier.ipynb\" target=\"_parent\"><img src=\"https://colab.research.google.com/assets/colab-badge.svg\" alt=\"Open In Colab\"/></a>"
      ]
    },
    {
      "cell_type": "markdown",
      "metadata": {
        "id": "QqYnzx25JZRp"
      },
      "source": [
        "# Glioblastoma scGPT Classifier (Downsampled Analysis)\n",
        "Only intended for testing with T4 Free tier GPU"
      ]
    },
    {
      "cell_type": "markdown",
      "metadata": {
        "id": "blhOiw18JZRq"
      },
      "source": [
        "## Introduction\n",
        "\n",
        "Based off the\n",
        "[scGPT GitHub](https://www.github.com/bowang-lab/scGPT/blob/main/tutorials/zero-shot/Tutorial_ZeroShot_Reference_Mapping.ipynb/) tutorial.\n",
        "\n",
        "### IMPORTANT:\n",
        "Connect to a runtime (T4 GPU for free tier) then:\n",
        "\n",
        "__Tools -> Command Pallete -> \"Use fallback runtime version\" as scGPT is currently only available for Python<3.11 and Google Colab has been updated to Python 3.11__  \n",
        "\n",
        "With Google Colab Pro - Use L4 GPU (cheaper) or A100 GPU (faster for embedding tasks).\n",
        "\n",
        "Use the scGPT-GBM workflow for T4 GPU (Google Colab Free) if you want to test without a subscription.\n",
        "\n",
        "Pip Freeze Packages (Python 3.10.12) -> LAST CELL OF NOTEBOOK"
      ]
    },
    {
      "cell_type": "code",
      "source": [
        "# connecting to your own google drive (not mandatory unless you want to generate UMAPs in the Post Processing script)\n",
        "\n",
        "from google.colab import drive\n",
        "drive.mount('/content/drive')\n",
        "\n",
        "!python3 --version # should return Python 3.10.12, if not make sure to follow instructions above to \"Use Fallback Version\""
      ],
      "metadata": {
        "colab": {
          "base_uri": "https://localhost:8080/"
        },
        "id": "z2KCnf7PSDKm",
        "outputId": "746fb2bd-951e-4ec0-ea02-46f5c4860d04"
      },
      "execution_count": 1,
      "outputs": [
        {
          "output_type": "stream",
          "name": "stdout",
          "text": [
            "Drive already mounted at /content/drive; to attempt to forcibly remount, call drive.mount(\"/content/drive\", force_remount=True).\n",
            "Python 3.10.12\n"
          ]
        }
      ]
    },
    {
      "cell_type": "code",
      "execution_count": 2,
      "metadata": {
        "colab": {
          "base_uri": "https://localhost:8080/"
        },
        "id": "Bw-zFQJLJZRr",
        "outputId": "d4bccb5e-8073-4811-bf03-e11201e475de"
      },
      "outputs": [
        {
          "output_type": "stream",
          "name": "stdout",
          "text": [
            "Running on Google Colab\n",
            "Installing dependencies...\n",
            "Requirement already satisfied: scgpt in /usr/local/lib/python3.10/dist-packages (0.2.1)\n",
            "Requirement already satisfied: cell-gears<0.0.3 in /usr/local/lib/python3.10/dist-packages (from scgpt) (0.0.2)\n",
            "Requirement already satisfied: datasets<3.0.0,>=2.3.0 in /usr/local/lib/python3.10/dist-packages (from scgpt) (2.21.0)\n",
            "Requirement already satisfied: leidenalg>=0.8.10 in /usr/local/lib/python3.10/dist-packages (from scgpt) (0.10.2)\n",
            "Requirement already satisfied: numba>=0.55.1 in /usr/local/lib/python3.10/dist-packages (from scgpt) (0.60.0)\n",
            "Requirement already satisfied: orbax<0.1.8 in /usr/local/lib/python3.10/dist-packages (from scgpt) (0.1.7)\n",
            "Requirement already satisfied: pandas>=1.3.5 in /usr/local/lib/python3.10/dist-packages (from scgpt) (2.2.2)\n",
            "Requirement already satisfied: scanpy<2.0.0,>=1.9.1 in /usr/local/lib/python3.10/dist-packages (from scgpt) (1.10.4)\n",
            "Requirement already satisfied: scib<2.0.0,>=1.0.3 in /usr/local/lib/python3.10/dist-packages (from scgpt) (1.1.7)\n",
            "Requirement already satisfied: scikit-misc>=0.1.4 in /usr/local/lib/python3.10/dist-packages (from scgpt) (0.5.1)\n",
            "Requirement already satisfied: scvi-tools<1.0,>=0.16.0 in /usr/local/lib/python3.10/dist-packages (from scgpt) (0.20.3)\n",
            "Requirement already satisfied: torch<2.2,>=1.13.0 in /usr/local/lib/python3.10/dist-packages (from scgpt) (2.1.2)\n",
            "Requirement already satisfied: torchtext in /usr/local/lib/python3.10/dist-packages (from scgpt) (0.16.2)\n",
            "Requirement already satisfied: typing-extensions<5.0.0,>=4.2.0 in /usr/local/lib/python3.10/dist-packages (from scgpt) (4.12.2)\n",
            "Requirement already satisfied: umap-learn>=0.5.3 in /usr/local/lib/python3.10/dist-packages (from scgpt) (0.5.7)\n",
            "Requirement already satisfied: numpy in /usr/local/lib/python3.10/dist-packages (from cell-gears<0.0.3->scgpt) (1.26.4)\n",
            "Requirement already satisfied: tqdm in /usr/local/lib/python3.10/dist-packages (from cell-gears<0.0.3->scgpt) (4.67.1)\n",
            "Requirement already satisfied: scikit-learn in /usr/local/lib/python3.10/dist-packages (from cell-gears<0.0.3->scgpt) (1.6.0)\n",
            "Requirement already satisfied: networkx in /usr/local/lib/python3.10/dist-packages (from cell-gears<0.0.3->scgpt) (3.4.2)\n",
            "Requirement already satisfied: dcor in /usr/local/lib/python3.10/dist-packages (from cell-gears<0.0.3->scgpt) (0.6)\n",
            "Requirement already satisfied: filelock in /usr/local/lib/python3.10/dist-packages (from datasets<3.0.0,>=2.3.0->scgpt) (3.16.1)\n",
            "Requirement already satisfied: pyarrow>=15.0.0 in /usr/local/lib/python3.10/dist-packages (from datasets<3.0.0,>=2.3.0->scgpt) (17.0.0)\n",
            "Requirement already satisfied: dill<0.3.9,>=0.3.0 in /usr/local/lib/python3.10/dist-packages (from datasets<3.0.0,>=2.3.0->scgpt) (0.3.8)\n",
            "Requirement already satisfied: requests>=2.32.2 in /usr/local/lib/python3.10/dist-packages (from datasets<3.0.0,>=2.3.0->scgpt) (2.32.3)\n",
            "Requirement already satisfied: xxhash in /usr/local/lib/python3.10/dist-packages (from datasets<3.0.0,>=2.3.0->scgpt) (3.5.0)\n",
            "Requirement already satisfied: multiprocess in /usr/local/lib/python3.10/dist-packages (from datasets<3.0.0,>=2.3.0->scgpt) (0.70.16)\n",
            "Requirement already satisfied: fsspec<=2024.6.1,>=2023.1.0 in /usr/local/lib/python3.10/dist-packages (from fsspec[http]<=2024.6.1,>=2023.1.0->datasets<3.0.0,>=2.3.0->scgpt) (2024.6.1)\n",
            "Requirement already satisfied: aiohttp in /usr/local/lib/python3.10/dist-packages (from datasets<3.0.0,>=2.3.0->scgpt) (3.11.10)\n",
            "Requirement already satisfied: huggingface-hub>=0.21.2 in /usr/local/lib/python3.10/dist-packages (from datasets<3.0.0,>=2.3.0->scgpt) (0.27.0)\n",
            "Requirement already satisfied: packaging in /usr/local/lib/python3.10/dist-packages (from datasets<3.0.0,>=2.3.0->scgpt) (24.2)\n",
            "Requirement already satisfied: pyyaml>=5.1 in /usr/local/lib/python3.10/dist-packages (from datasets<3.0.0,>=2.3.0->scgpt) (6.0.2)\n",
            "Requirement already satisfied: igraph<0.12,>=0.10.0 in /usr/local/lib/python3.10/dist-packages (from leidenalg>=0.8.10->scgpt) (0.11.8)\n",
            "Requirement already satisfied: llvmlite<0.44,>=0.43.0dev0 in /usr/local/lib/python3.10/dist-packages (from numba>=0.55.1->scgpt) (0.43.0)\n",
            "Requirement already satisfied: absl-py in /usr/local/lib/python3.10/dist-packages (from orbax<0.1.8->scgpt) (1.4.0)\n",
            "Requirement already satisfied: cached_property in /usr/local/lib/python3.10/dist-packages (from orbax<0.1.8->scgpt) (2.0.1)\n",
            "Requirement already satisfied: importlib_resources in /usr/local/lib/python3.10/dist-packages (from orbax<0.1.8->scgpt) (6.4.5)\n",
            "Requirement already satisfied: msgpack in /usr/local/lib/python3.10/dist-packages (from orbax<0.1.8->scgpt) (1.1.0)\n",
            "Requirement already satisfied: etils in /usr/local/lib/python3.10/dist-packages (from orbax<0.1.8->scgpt) (1.11.0)\n",
            "Requirement already satisfied: jax>=0.4.6 in /usr/local/lib/python3.10/dist-packages (from orbax<0.1.8->scgpt) (0.4.33)\n",
            "Requirement already satisfied: jaxlib in /usr/local/lib/python3.10/dist-packages (from orbax<0.1.8->scgpt) (0.4.33)\n",
            "Requirement already satisfied: tensorstore>=0.1.20 in /usr/local/lib/python3.10/dist-packages (from orbax<0.1.8->scgpt) (0.1.71)\n",
            "Requirement already satisfied: nest_asyncio in /usr/local/lib/python3.10/dist-packages (from orbax<0.1.8->scgpt) (1.6.0)\n",
            "Requirement already satisfied: python-dateutil>=2.8.2 in /usr/local/lib/python3.10/dist-packages (from pandas>=1.3.5->scgpt) (2.8.2)\n",
            "Requirement already satisfied: pytz>=2020.1 in /usr/local/lib/python3.10/dist-packages (from pandas>=1.3.5->scgpt) (2024.2)\n",
            "Requirement already satisfied: tzdata>=2022.7 in /usr/local/lib/python3.10/dist-packages (from pandas>=1.3.5->scgpt) (2024.2)\n",
            "Requirement already satisfied: anndata>=0.8 in /usr/local/lib/python3.10/dist-packages (from scanpy<2.0.0,>=1.9.1->scgpt) (0.11.3)\n",
            "Requirement already satisfied: h5py>=3.6 in /usr/local/lib/python3.10/dist-packages (from scanpy<2.0.0,>=1.9.1->scgpt) (3.12.1)\n",
            "Requirement already satisfied: joblib in /usr/local/lib/python3.10/dist-packages (from scanpy<2.0.0,>=1.9.1->scgpt) (1.4.2)\n",
            "Requirement already satisfied: legacy-api-wrap>=1.4 in /usr/local/lib/python3.10/dist-packages (from scanpy<2.0.0,>=1.9.1->scgpt) (1.4.1)\n",
            "Requirement already satisfied: matplotlib>=3.6 in /usr/local/lib/python3.10/dist-packages (from scanpy<2.0.0,>=1.9.1->scgpt) (3.8.0)\n",
            "Requirement already satisfied: natsort in /usr/local/lib/python3.10/dist-packages (from scanpy<2.0.0,>=1.9.1->scgpt) (8.4.0)\n",
            "Requirement already satisfied: patsy!=1.0.0 in /usr/local/lib/python3.10/dist-packages (from scanpy<2.0.0,>=1.9.1->scgpt) (1.0.1)\n",
            "Requirement already satisfied: pynndescent>=0.5 in /usr/local/lib/python3.10/dist-packages (from scanpy<2.0.0,>=1.9.1->scgpt) (0.5.13)\n",
            "Requirement already satisfied: scipy>=1.8 in /usr/local/lib/python3.10/dist-packages (from scanpy<2.0.0,>=1.9.1->scgpt) (1.13.1)\n",
            "Requirement already satisfied: seaborn>=0.13 in /usr/local/lib/python3.10/dist-packages (from scanpy<2.0.0,>=1.9.1->scgpt) (0.13.2)\n",
            "Requirement already satisfied: session-info in /usr/local/lib/python3.10/dist-packages (from scanpy<2.0.0,>=1.9.1->scgpt) (1.0.0)\n",
            "Requirement already satisfied: statsmodels>=0.13 in /usr/local/lib/python3.10/dist-packages (from scanpy<2.0.0,>=1.9.1->scgpt) (0.14.4)\n",
            "Requirement already satisfied: pydot in /usr/local/lib/python3.10/dist-packages (from scib<2.0.0,>=1.0.3->scgpt) (3.0.3)\n",
            "Requirement already satisfied: deprecated in /usr/local/lib/python3.10/dist-packages (from scib<2.0.0,>=1.0.3->scgpt) (1.2.15)\n",
            "Requirement already satisfied: chex in /usr/local/lib/python3.10/dist-packages (from scvi-tools<1.0,>=0.16.0->scgpt) (0.1.88)\n",
            "Requirement already satisfied: docrep>=0.3.2 in /usr/local/lib/python3.10/dist-packages (from scvi-tools<1.0,>=0.16.0->scgpt) (0.3.2)\n",
            "Requirement already satisfied: flax in /usr/local/lib/python3.10/dist-packages (from scvi-tools<1.0,>=0.16.0->scgpt) (0.8.5)\n",
            "Requirement already satisfied: ml-collections>=0.1.1 in /usr/local/lib/python3.10/dist-packages (from scvi-tools<1.0,>=0.16.0->scgpt) (1.0.0)\n",
            "Requirement already satisfied: mudata>=0.1.2 in /usr/local/lib/python3.10/dist-packages (from scvi-tools<1.0,>=0.16.0->scgpt) (0.3.1)\n",
            "Requirement already satisfied: numpyro in /usr/local/lib/python3.10/dist-packages (from scvi-tools<1.0,>=0.16.0->scgpt) (0.16.1)\n",
            "Requirement already satisfied: openpyxl>=3.0 in /usr/local/lib/python3.10/dist-packages (from scvi-tools<1.0,>=0.16.0->scgpt) (3.1.5)\n",
            "Requirement already satisfied: optax in /usr/local/lib/python3.10/dist-packages (from scvi-tools<1.0,>=0.16.0->scgpt) (0.2.4)\n",
            "Requirement already satisfied: pyro-ppl>=1.6.0 in /usr/local/lib/python3.10/dist-packages (from scvi-tools<1.0,>=0.16.0->scgpt) (1.9.1)\n",
            "Requirement already satisfied: pytorch-lightning<1.10.0,>=1.9.0 in /usr/local/lib/python3.10/dist-packages (from scvi-tools<1.0,>=0.16.0->scgpt) (1.9.5)\n",
            "Requirement already satisfied: rich>=12.0.0 in /usr/local/lib/python3.10/dist-packages (from scvi-tools<1.0,>=0.16.0->scgpt) (13.9.4)\n",
            "Requirement already satisfied: torchmetrics>=0.11.0 in /usr/local/lib/python3.10/dist-packages (from scvi-tools<1.0,>=0.16.0->scgpt) (1.6.1)\n",
            "Requirement already satisfied: sympy in /usr/local/lib/python3.10/dist-packages (from torch<2.2,>=1.13.0->scgpt) (1.13.1)\n",
            "Requirement already satisfied: jinja2 in /usr/local/lib/python3.10/dist-packages (from torch<2.2,>=1.13.0->scgpt) (3.1.4)\n",
            "Requirement already satisfied: nvidia-cuda-nvrtc-cu12==12.1.105 in /usr/local/lib/python3.10/dist-packages (from torch<2.2,>=1.13.0->scgpt) (12.1.105)\n",
            "Requirement already satisfied: nvidia-cuda-runtime-cu12==12.1.105 in /usr/local/lib/python3.10/dist-packages (from torch<2.2,>=1.13.0->scgpt) (12.1.105)\n",
            "Requirement already satisfied: nvidia-cuda-cupti-cu12==12.1.105 in /usr/local/lib/python3.10/dist-packages (from torch<2.2,>=1.13.0->scgpt) (12.1.105)\n",
            "Requirement already satisfied: nvidia-cudnn-cu12==8.9.2.26 in /usr/local/lib/python3.10/dist-packages (from torch<2.2,>=1.13.0->scgpt) (8.9.2.26)\n",
            "Requirement already satisfied: nvidia-cublas-cu12==12.1.3.1 in /usr/local/lib/python3.10/dist-packages (from torch<2.2,>=1.13.0->scgpt) (12.1.3.1)\n",
            "Requirement already satisfied: nvidia-cufft-cu12==11.0.2.54 in /usr/local/lib/python3.10/dist-packages (from torch<2.2,>=1.13.0->scgpt) (11.0.2.54)\n",
            "Requirement already satisfied: nvidia-curand-cu12==10.3.2.106 in /usr/local/lib/python3.10/dist-packages (from torch<2.2,>=1.13.0->scgpt) (10.3.2.106)\n",
            "Requirement already satisfied: nvidia-cusolver-cu12==11.4.5.107 in /usr/local/lib/python3.10/dist-packages (from torch<2.2,>=1.13.0->scgpt) (11.4.5.107)\n",
            "Requirement already satisfied: nvidia-cusparse-cu12==12.1.0.106 in /usr/local/lib/python3.10/dist-packages (from torch<2.2,>=1.13.0->scgpt) (12.1.0.106)\n",
            "Requirement already satisfied: nvidia-nccl-cu12==2.18.1 in /usr/local/lib/python3.10/dist-packages (from torch<2.2,>=1.13.0->scgpt) (2.18.1)\n",
            "Requirement already satisfied: nvidia-nvtx-cu12==12.1.105 in /usr/local/lib/python3.10/dist-packages (from torch<2.2,>=1.13.0->scgpt) (12.1.105)\n",
            "Requirement already satisfied: triton==2.1.0 in /usr/local/lib/python3.10/dist-packages (from torch<2.2,>=1.13.0->scgpt) (2.1.0)\n",
            "Requirement already satisfied: nvidia-nvjitlink-cu12 in /usr/local/lib/python3.10/dist-packages (from nvidia-cusolver-cu12==11.4.5.107->torch<2.2,>=1.13.0->scgpt) (12.6.85)\n",
            "Requirement already satisfied: torchdata==0.7.1 in /usr/local/lib/python3.10/dist-packages (from torchtext->scgpt) (0.7.1)\n",
            "Requirement already satisfied: urllib3>=1.25 in /usr/local/lib/python3.10/dist-packages (from torchdata==0.7.1->torchtext->scgpt) (2.2.3)\n",
            "Requirement already satisfied: array-api-compat!=1.5,>1.4 in /usr/local/lib/python3.10/dist-packages (from anndata>=0.8->scanpy<2.0.0,>=1.9.1->scgpt) (1.10.0)\n",
            "Requirement already satisfied: exceptiongroup in /usr/local/lib/python3.10/dist-packages (from anndata>=0.8->scanpy<2.0.0,>=1.9.1->scgpt) (1.2.2)\n",
            "Requirement already satisfied: six in /usr/local/lib/python3.10/dist-packages (from docrep>=0.3.2->scvi-tools<1.0,>=0.16.0->scgpt) (1.17.0)\n",
            "Requirement already satisfied: aiohappyeyeballs>=2.3.0 in /usr/local/lib/python3.10/dist-packages (from aiohttp->datasets<3.0.0,>=2.3.0->scgpt) (2.4.4)\n",
            "Requirement already satisfied: aiosignal>=1.1.2 in /usr/local/lib/python3.10/dist-packages (from aiohttp->datasets<3.0.0,>=2.3.0->scgpt) (1.3.2)\n",
            "Requirement already satisfied: async-timeout<6.0,>=4.0 in /usr/local/lib/python3.10/dist-packages (from aiohttp->datasets<3.0.0,>=2.3.0->scgpt) (4.0.3)\n",
            "Requirement already satisfied: attrs>=17.3.0 in /usr/local/lib/python3.10/dist-packages (from aiohttp->datasets<3.0.0,>=2.3.0->scgpt) (24.3.0)\n",
            "Requirement already satisfied: frozenlist>=1.1.1 in /usr/local/lib/python3.10/dist-packages (from aiohttp->datasets<3.0.0,>=2.3.0->scgpt) (1.5.0)\n",
            "Requirement already satisfied: multidict<7.0,>=4.5 in /usr/local/lib/python3.10/dist-packages (from aiohttp->datasets<3.0.0,>=2.3.0->scgpt) (6.1.0)\n",
            "Requirement already satisfied: propcache>=0.2.0 in /usr/local/lib/python3.10/dist-packages (from aiohttp->datasets<3.0.0,>=2.3.0->scgpt) (0.2.1)\n",
            "Requirement already satisfied: yarl<2.0,>=1.17.0 in /usr/local/lib/python3.10/dist-packages (from aiohttp->datasets<3.0.0,>=2.3.0->scgpt) (1.18.3)\n",
            "Requirement already satisfied: texttable>=1.6.2 in /usr/local/lib/python3.10/dist-packages (from igraph<0.12,>=0.10.0->leidenalg>=0.8.10->scgpt) (1.7.0)\n",
            "Requirement already satisfied: ml-dtypes>=0.2.0 in /usr/local/lib/python3.10/dist-packages (from jax>=0.4.6->orbax<0.1.8->scgpt) (0.4.1)\n",
            "Requirement already satisfied: opt-einsum in /usr/local/lib/python3.10/dist-packages (from jax>=0.4.6->orbax<0.1.8->scgpt) (3.4.0)\n",
            "Requirement already satisfied: contourpy>=1.0.1 in /usr/local/lib/python3.10/dist-packages (from matplotlib>=3.6->scanpy<2.0.0,>=1.9.1->scgpt) (1.3.1)\n",
            "Requirement already satisfied: cycler>=0.10 in /usr/local/lib/python3.10/dist-packages (from matplotlib>=3.6->scanpy<2.0.0,>=1.9.1->scgpt) (0.12.1)\n",
            "Requirement already satisfied: fonttools>=4.22.0 in /usr/local/lib/python3.10/dist-packages (from matplotlib>=3.6->scanpy<2.0.0,>=1.9.1->scgpt) (4.55.3)\n",
            "Requirement already satisfied: kiwisolver>=1.0.1 in /usr/local/lib/python3.10/dist-packages (from matplotlib>=3.6->scanpy<2.0.0,>=1.9.1->scgpt) (1.4.7)\n",
            "Requirement already satisfied: pillow>=6.2.0 in /usr/local/lib/python3.10/dist-packages (from matplotlib>=3.6->scanpy<2.0.0,>=1.9.1->scgpt) (11.0.0)\n",
            "Requirement already satisfied: pyparsing>=2.3.1 in /usr/local/lib/python3.10/dist-packages (from matplotlib>=3.6->scanpy<2.0.0,>=1.9.1->scgpt) (3.2.0)\n",
            "Requirement already satisfied: et-xmlfile in /usr/local/lib/python3.10/dist-packages (from openpyxl>=3.0->scvi-tools<1.0,>=0.16.0->scgpt) (2.0.0)\n",
            "Requirement already satisfied: pyro-api>=0.1.1 in /usr/local/lib/python3.10/dist-packages (from pyro-ppl>=1.6.0->scvi-tools<1.0,>=0.16.0->scgpt) (0.1.2)\n",
            "Requirement already satisfied: lightning-utilities>=0.6.0.post0 in /usr/local/lib/python3.10/dist-packages (from pytorch-lightning<1.10.0,>=1.9.0->scvi-tools<1.0,>=0.16.0->scgpt) (0.12.0)\n",
            "Requirement already satisfied: charset-normalizer<4,>=2 in /usr/local/lib/python3.10/dist-packages (from requests>=2.32.2->datasets<3.0.0,>=2.3.0->scgpt) (3.4.0)\n",
            "Requirement already satisfied: idna<4,>=2.5 in /usr/local/lib/python3.10/dist-packages (from requests>=2.32.2->datasets<3.0.0,>=2.3.0->scgpt) (3.10)\n",
            "Requirement already satisfied: certifi>=2017.4.17 in /usr/local/lib/python3.10/dist-packages (from requests>=2.32.2->datasets<3.0.0,>=2.3.0->scgpt) (2024.12.14)\n",
            "Requirement already satisfied: markdown-it-py>=2.2.0 in /usr/local/lib/python3.10/dist-packages (from rich>=12.0.0->scvi-tools<1.0,>=0.16.0->scgpt) (3.0.0)\n",
            "Requirement already satisfied: pygments<3.0.0,>=2.13.0 in /usr/local/lib/python3.10/dist-packages (from rich>=12.0.0->scvi-tools<1.0,>=0.16.0->scgpt) (2.18.0)\n",
            "Requirement already satisfied: threadpoolctl>=3.1.0 in /usr/local/lib/python3.10/dist-packages (from scikit-learn->cell-gears<0.0.3->scgpt) (3.5.0)\n",
            "Requirement already satisfied: toolz>=0.9.0 in /usr/local/lib/python3.10/dist-packages (from chex->scvi-tools<1.0,>=0.16.0->scgpt) (0.12.1)\n",
            "Requirement already satisfied: wrapt<2,>=1.10 in /usr/local/lib/python3.10/dist-packages (from deprecated->scib<2.0.0,>=1.0.3->scgpt) (1.17.0)\n",
            "Requirement already satisfied: orbax-checkpoint in /usr/local/lib/python3.10/dist-packages (from flax->scvi-tools<1.0,>=0.16.0->scgpt) (0.6.4)\n",
            "Requirement already satisfied: MarkupSafe>=2.0 in /usr/local/lib/python3.10/dist-packages (from jinja2->torch<2.2,>=1.13.0->scgpt) (3.0.2)\n",
            "Requirement already satisfied: multipledispatch in /usr/local/lib/python3.10/dist-packages (from numpyro->scvi-tools<1.0,>=0.16.0->scgpt) (1.0.0)\n",
            "Requirement already satisfied: stdlib-list in /usr/local/lib/python3.10/dist-packages (from session-info->scanpy<2.0.0,>=1.9.1->scgpt) (0.11.0)\n",
            "Requirement already satisfied: mpmath<1.4,>=1.1.0 in /usr/local/lib/python3.10/dist-packages (from sympy->torch<2.2,>=1.13.0->scgpt) (1.3.0)\n",
            "Requirement already satisfied: setuptools in /usr/local/lib/python3.10/dist-packages (from lightning-utilities>=0.6.0.post0->pytorch-lightning<1.10.0,>=1.9.0->scvi-tools<1.0,>=0.16.0->scgpt) (75.1.0)\n",
            "Requirement already satisfied: mdurl~=0.1 in /usr/local/lib/python3.10/dist-packages (from markdown-it-py>=2.2.0->rich>=12.0.0->scvi-tools<1.0,>=0.16.0->scgpt) (0.1.2)\n",
            "Requirement already satisfied: protobuf in /usr/local/lib/python3.10/dist-packages (from orbax-checkpoint->flax->scvi-tools<1.0,>=0.16.0->scgpt) (4.25.5)\n",
            "Requirement already satisfied: humanize in /usr/local/lib/python3.10/dist-packages (from orbax-checkpoint->flax->scvi-tools<1.0,>=0.16.0->scgpt) (4.11.0)\n",
            "Requirement already satisfied: zipp in /usr/local/lib/python3.10/dist-packages (from etils->orbax<0.1.8->scgpt) (3.21.0)\n",
            "Requirement already satisfied: wandb in /usr/local/lib/python3.10/dist-packages (0.19.1)\n",
            "Requirement already satisfied: louvain in /usr/local/lib/python3.10/dist-packages (0.8.2)\n",
            "Requirement already satisfied: faiss-gpu in /usr/local/lib/python3.10/dist-packages (1.7.2)\n",
            "Requirement already satisfied: click!=8.0.0,>=7.1 in /usr/local/lib/python3.10/dist-packages (from wandb) (8.1.7)\n",
            "Requirement already satisfied: docker-pycreds>=0.4.0 in /usr/local/lib/python3.10/dist-packages (from wandb) (0.4.0)\n",
            "Requirement already satisfied: gitpython!=3.1.29,>=1.0.0 in /usr/local/lib/python3.10/dist-packages (from wandb) (3.1.43)\n",
            "Requirement already satisfied: platformdirs in /usr/local/lib/python3.10/dist-packages (from wandb) (4.3.6)\n",
            "Requirement already satisfied: protobuf!=4.21.0,!=5.28.0,<6,>=3.19.0 in /usr/local/lib/python3.10/dist-packages (from wandb) (4.25.5)\n",
            "Requirement already satisfied: psutil>=5.0.0 in /usr/local/lib/python3.10/dist-packages (from wandb) (5.9.5)\n",
            "Requirement already satisfied: pydantic<3,>=2.6 in /usr/local/lib/python3.10/dist-packages (from wandb) (2.10.3)\n",
            "Requirement already satisfied: pyyaml in /usr/local/lib/python3.10/dist-packages (from wandb) (6.0.2)\n",
            "Requirement already satisfied: requests<3,>=2.0.0 in /usr/local/lib/python3.10/dist-packages (from wandb) (2.32.3)\n",
            "Requirement already satisfied: sentry-sdk>=2.0.0 in /usr/local/lib/python3.10/dist-packages (from wandb) (2.19.2)\n",
            "Requirement already satisfied: setproctitle in /usr/local/lib/python3.10/dist-packages (from wandb) (1.3.4)\n",
            "Requirement already satisfied: setuptools in /usr/local/lib/python3.10/dist-packages (from wandb) (75.1.0)\n",
            "Requirement already satisfied: typing-extensions<5,>=4.4 in /usr/local/lib/python3.10/dist-packages (from wandb) (4.12.2)\n",
            "Requirement already satisfied: igraph<0.12,>=0.10.0 in /usr/local/lib/python3.10/dist-packages (from louvain) (0.11.8)\n",
            "Requirement already satisfied: six>=1.4.0 in /usr/local/lib/python3.10/dist-packages (from docker-pycreds>=0.4.0->wandb) (1.17.0)\n",
            "Requirement already satisfied: gitdb<5,>=4.0.1 in /usr/local/lib/python3.10/dist-packages (from gitpython!=3.1.29,>=1.0.0->wandb) (4.0.11)\n",
            "Requirement already satisfied: texttable>=1.6.2 in /usr/local/lib/python3.10/dist-packages (from igraph<0.12,>=0.10.0->louvain) (1.7.0)\n",
            "Requirement already satisfied: annotated-types>=0.6.0 in /usr/local/lib/python3.10/dist-packages (from pydantic<3,>=2.6->wandb) (0.7.0)\n",
            "Requirement already satisfied: pydantic-core==2.27.1 in /usr/local/lib/python3.10/dist-packages (from pydantic<3,>=2.6->wandb) (2.27.1)\n",
            "Requirement already satisfied: charset-normalizer<4,>=2 in /usr/local/lib/python3.10/dist-packages (from requests<3,>=2.0.0->wandb) (3.4.0)\n",
            "Requirement already satisfied: idna<4,>=2.5 in /usr/local/lib/python3.10/dist-packages (from requests<3,>=2.0.0->wandb) (3.10)\n",
            "Requirement already satisfied: urllib3<3,>=1.21.1 in /usr/local/lib/python3.10/dist-packages (from requests<3,>=2.0.0->wandb) (2.2.3)\n",
            "Requirement already satisfied: certifi>=2017.4.17 in /usr/local/lib/python3.10/dist-packages (from requests<3,>=2.0.0->wandb) (2024.12.14)\n",
            "Requirement already satisfied: smmap<6,>=3.0.1 in /usr/local/lib/python3.10/dist-packages (from gitdb<5,>=4.0.1->gitpython!=3.1.29,>=1.0.0->wandb) (5.0.1)\n",
            "Reading package lists... Done\n",
            "Building dependency tree... Done\n",
            "Reading state information... Done\n",
            "wget is already the newest version (1.21.2-2ubuntu1.1).\n",
            "0 upgraded, 0 newly installed, 0 to remove and 49 not upgraded.\n",
            "Downloading scGPT model checkpoint via Google Drive...\n",
            "Setup complete!\n"
          ]
        }
      ],
      "source": [
        "import os\n",
        "import sys\n",
        "import requests\n",
        "\n",
        "if \"google.colab\" in sys.modules:\n",
        "    print(\"Running on Google Colab\")\n",
        "    print(\"Installing dependencies...\")\n",
        "\n",
        "    !pip install --upgrade scgpt\n",
        "    !pip install wandb louvain faiss-gpu\n",
        "\n",
        "    # Install wget for downloading files from URLs\n",
        "    !apt-get install wget\n",
        "\n",
        "    # Install gdown for Google Drive downloads\n",
        "    !pip install -q -U gdown\n",
        "\n",
        "    print(\"Downloading scGPT model checkpoint via Google Drive...\")\n",
        "    model_dir = \"/content/save/scGPT_continual\"\n",
        "    if not os.path.exists(model_dir):\n",
        "        !mkdir -p $model_dir\n",
        "        import gdown\n",
        "        gdown.download_folder(\n",
        "            #  human 33M\n",
        "            # \"https://drive.google.com/drive/folders/1oWh_-ZRdhtoGQ2Fw24HP41FgLoomVo-y\",\n",
        "\n",
        "            # brain 10M\n",
        "            # \"https://drive.google.com/drive/folders/1vf1ijfQSk7rGdDGpBntR5bi5g6gNt-Gx\",\n",
        "\n",
        "            # continual pretrained (batch corrected)\n",
        "            \"https://drive.google.com/drive/folders/1_GROJTzXiAV8HB4imruOTk6PEGuNOcgB\",\n",
        "            output=model_dir,\n",
        "            quiet=False\n",
        "        )\n",
        "\n",
        "    print(\"Setup complete!\")"
      ]
    },
    {
      "cell_type": "code",
      "execution_count": 3,
      "metadata": {
        "colab": {
          "base_uri": "https://localhost:8080/"
        },
        "id": "5I7lpTV6_p6o",
        "outputId": "3cbc39a5-54d8-4a12-eb6b-015de3abe627"
      },
      "outputs": [
        {
          "output_type": "stream",
          "name": "stdout",
          "text": [
            "Downloading Richards et al 2021 GBM data and GBMAP filtered data via Google Drive...\n"
          ]
        }
      ],
      "source": [
        "print(\"Downloading Richards et al 2021 GBM data and GBMAP filtered data via Google Drive...\")\n",
        "\n",
        "data_dir = \"/content/data\"\n",
        "if not os.path.exists(data_dir):\n",
        "    os.mkdir(data_dir)\n",
        "    # from google drive folder\n",
        "\n",
        "    gdown.download_folder(\n",
        "        \"https://drive.google.com/drive/folders/1LfHupXfZPAcLj-xyttfIHsl0FAHlGKUJ\",\n",
        "        output=os.path.join(data_dir),\n",
        "    )\n"
      ]
    },
    {
      "cell_type": "markdown",
      "metadata": {
        "id": "hOnJuUB1JZRs"
      },
      "source": [
        "## Import scGPT and dependencies"
      ]
    },
    {
      "cell_type": "code",
      "execution_count": 5,
      "metadata": {
        "colab": {
          "base_uri": "https://localhost:8080/"
        },
        "id": "0XwfEhuJJZRs",
        "outputId": "50f13b91-57bd-4980-d651-582a54c009ba"
      },
      "outputs": [
        {
          "output_type": "stream",
          "name": "stdout",
          "text": [
            "faiss imported!\n",
            "1.7.2\n"
          ]
        }
      ],
      "source": [
        "from pathlib import Path\n",
        "import numpy as np\n",
        "from scipy.stats import mode\n",
        "import scanpy as sc\n",
        "import warnings\n",
        "from sklearn.metrics import accuracy_score, precision_score, recall_score, f1_score\n",
        "from sklearn.metrics import confusion_matrix\n",
        "import seaborn as sns\n",
        "import pandas as pd\n",
        "import sys\n",
        "\n",
        "sys.path.insert(0, \"../\")\n",
        "\n",
        "import scgpt as scg\n",
        "\n",
        "# extra dependency for similarity search\n",
        "try:\n",
        "    import faiss\n",
        "\n",
        "    faiss_imported = True\n",
        "    print(\"faiss imported!\")\n",
        "    print(faiss.__version__)\n",
        "\n",
        "except ImportError:\n",
        "    faiss_imported = False\n",
        "    print(\n",
        "        \"faiss not installed! We highly recommend installing it for fast similarity search.\"\n",
        "    )\n",
        "    print(\"To install it, see https://github.com/facebookresearch/faiss/wiki/Installing-Faiss\")\n",
        "\n",
        "warnings.filterwarnings(\"ignore\", category=ResourceWarning)\n",
        "warnings.filterwarnings(\"ignore\", category=ImportWarning)\n"
      ]
    },
    {
      "cell_type": "markdown",
      "metadata": {
        "id": "l3btHwpwJZRs"
      },
      "source": [
        "## Loading Data\n",
        "Downloaded data can be found in cells above or [here](https://drive.google.com/drive/folders/1LfHupXfZPAcLj-xyttfIHsl0FAHlGKUJ)"
      ]
    },
    {
      "cell_type": "code",
      "execution_count": 9,
      "metadata": {
        "colab": {
          "base_uri": "https://localhost:8080/"
        },
        "id": "BUo0zw7LJZRt",
        "outputId": "5b8673f5-e36d-481a-f974-eb77c832d24a"
      },
      "outputs": [
        {
          "output_type": "stream",
          "name": "stdout",
          "text": [
            "Number of cells - adata_train: 69762\n",
            "Number of cells - adata_test: 19030\n",
            "GPU mem:16G, batch_size:256\n"
          ]
        }
      ],
      "source": [
        "import numpy as np\n",
        "\n",
        "# Reading in data\n",
        "gbmap = sc.read_h5ad(\"/content/data/gbm_filtered.h5ad\")\n",
        "# adata_train = gbmap\n",
        "\n",
        "# Keep only the relevant columns in obs (cell metadata)\n",
        "gbmap.obs = gbmap.obs[['author', 'annotation_level_3', 'cell_type']]\n",
        "\n",
        "# Keep only the relevant columns in var (gene metadata)\n",
        "gbmap.var = gbmap.var[['feature_name']]\n",
        "\n",
        "# Remove unwanted attributes\n",
        "gbmap.raw = None  # Remove raw data if not needed\n",
        "gbmap.layers.clear()  # Remove all layers\n",
        "gbmap.uns.clear()  # Remove unstructured data\n",
        "gbmap.obsm.clear()  # Remove dimensional reductions\n",
        "gbmap.varm.clear()  # Remove gene-related matrices\n",
        "gbmap.obsp.clear()  # Remove pairwise similarity matrices\n",
        "\n",
        "# Downsample gbmap\n",
        "# Set seed for reproducibility\n",
        "np.random.seed(42)\n",
        "\n",
        "# Remove Neftel2019 data to prevent overfitting in predictions\n",
        "filtered_indices = gbmap.obs[\"author\"] != \"Neftel2019\"\n",
        "gbmap = gbmap[filtered_indices]  # Avoids a deep copy\n",
        "\n",
        "# Subset 25% of the cells randomly\n",
        "subset_indices = np.random.choice(gbmap.n_obs, size=int(0.25 * gbmap.n_obs), replace=False)\n",
        "\n",
        "# Subset the AnnData object\n",
        "adata_train = gbmap[subset_indices, :].copy()\n",
        "del gbmap\n",
        "\n",
        "neftel = sc.read_h5ad(\"/content/data/neftel/Neftel2019_data.h5ad\")\n",
        "neftel.X = neftel.raw.X.copy()\n",
        "neftel.raw = None\n",
        "adata_test = neftel\n",
        "del neftel\n",
        "\n",
        "cell_type_key = \"annotation_level_3\"\n",
        "# cell_type_key = \"cell_type\"\n",
        "gene_col = \"feature_name\"\n",
        "\n",
        "# Print the number of cells for adata_train and adata_test\n",
        "num_cells_train = adata_train.n_obs\n",
        "print(f\"Number of cells - adata_train: {num_cells_train}\")\n",
        "\n",
        "num_cells_test = adata_test.n_obs\n",
        "print(f\"Number of cells - adata_test: {num_cells_test}\")\n",
        "\n",
        "import torch\n",
        "batch_size=int(torch.cuda.get_device_properties(0).total_memory/1e9+.5)*16\n",
        "print(f'GPU mem:{int(torch.cuda.get_device_properties(0).total_memory/1e9+.5)}G, batch_size:{batch_size}')\n"
      ]
    },
    {
      "cell_type": "code",
      "execution_count": 10,
      "metadata": {
        "colab": {
          "base_uri": "https://localhost:8080/"
        },
        "id": "DELmlXBtK8vD",
        "outputId": "791837db-939a-4c5b-fef8-de20b70d0ec4"
      },
      "outputs": [
        {
          "output_type": "stream",
          "name": "stdout",
          "text": [
            "annotation_level_3\n",
            "CD4/CD8            13425\n",
            "TAM-BDM            12843\n",
            "AC-like             9633\n",
            "TAM-MG              9208\n",
            "MES-like            7371\n",
            "NPC-like            4678\n",
            "OPC-like            3762\n",
            "Mono                3353\n",
            "Oligodendrocyte     2154\n",
            "DC                   892\n",
            "RG                   715\n",
            "NK                   604\n",
            "B cell               316\n",
            "Mural cell           314\n",
            "Endothelial          151\n",
            "OPC                  121\n",
            "Plasma B             104\n",
            "Mast                  68\n",
            "Astrocyte             45\n",
            "Neuron                 5\n",
            "Name: count, dtype: int64\n"
          ]
        }
      ],
      "source": [
        "# Get the counts of each cell type in 'annotation_level_3'\n",
        "cell_type_counts = adata_train.obs['annotation_level_3'].value_counts()\n",
        "\n",
        "# Print the counts\n",
        "print(cell_type_counts)"
      ]
    },
    {
      "cell_type": "code",
      "source": [
        "# Clear memory\n",
        "import gc\n",
        "gc.collect()"
      ],
      "metadata": {
        "colab": {
          "base_uri": "https://localhost:8080/"
        },
        "id": "7TXk0Y9ggYIF",
        "outputId": "fb3bc822-78be-4dd0-b76d-b7c859fa42ee"
      },
      "execution_count": 11,
      "outputs": [
        {
          "output_type": "execute_result",
          "data": {
            "text/plain": [
              "347"
            ]
          },
          "metadata": {},
          "execution_count": 11
        }
      ]
    },
    {
      "cell_type": "markdown",
      "metadata": {
        "id": "R2eXm51TJZRt"
      },
      "source": [
        "\n",
        "REFERENCE SCGPT EMBEDDING"
      ]
    },
    {
      "cell_type": "code",
      "execution_count": 12,
      "metadata": {
        "colab": {
          "base_uri": "https://localhost:8080/"
        },
        "id": "Xb6uE-OzJZRt",
        "outputId": "9de0bc48-9df1-4877-faf1-d5d1977654af"
      },
      "outputs": [
        {
          "output_type": "stream",
          "name": "stdout",
          "text": [
            "Requirement already satisfied: PyDrive2 in /usr/local/lib/python3.10/dist-packages (1.21.3)\n",
            "Requirement already satisfied: google-api-python-client>=1.12.5 in /usr/local/lib/python3.10/dist-packages (from PyDrive2) (2.155.0)\n",
            "Requirement already satisfied: oauth2client>=4.0.0 in /usr/local/lib/python3.10/dist-packages (from PyDrive2) (4.1.3)\n",
            "Requirement already satisfied: PyYAML>=3.0 in /usr/local/lib/python3.10/dist-packages (from PyDrive2) (6.0.2)\n",
            "Requirement already satisfied: cryptography<44 in /usr/local/lib/python3.10/dist-packages (from PyDrive2) (43.0.3)\n",
            "Requirement already satisfied: pyOpenSSL<=24.2.1,>=19.1.0 in /usr/local/lib/python3.10/dist-packages (from PyDrive2) (24.2.1)\n",
            "Requirement already satisfied: cffi>=1.12 in /usr/local/lib/python3.10/dist-packages (from cryptography<44->PyDrive2) (1.17.1)\n",
            "Requirement already satisfied: httplib2<1.dev0,>=0.19.0 in /usr/local/lib/python3.10/dist-packages (from google-api-python-client>=1.12.5->PyDrive2) (0.22.0)\n",
            "Requirement already satisfied: google-auth!=2.24.0,!=2.25.0,<3.0.0.dev0,>=1.32.0 in /usr/local/lib/python3.10/dist-packages (from google-api-python-client>=1.12.5->PyDrive2) (2.27.0)\n",
            "Requirement already satisfied: google-auth-httplib2<1.0.0,>=0.2.0 in /usr/local/lib/python3.10/dist-packages (from google-api-python-client>=1.12.5->PyDrive2) (0.2.0)\n",
            "Requirement already satisfied: google-api-core!=2.0.*,!=2.1.*,!=2.2.*,!=2.3.0,<3.0.0.dev0,>=1.31.5 in /usr/local/lib/python3.10/dist-packages (from google-api-python-client>=1.12.5->PyDrive2) (2.19.2)\n",
            "Requirement already satisfied: uritemplate<5,>=3.0.1 in /usr/local/lib/python3.10/dist-packages (from google-api-python-client>=1.12.5->PyDrive2) (4.1.1)\n",
            "Requirement already satisfied: pyasn1>=0.1.7 in /usr/local/lib/python3.10/dist-packages (from oauth2client>=4.0.0->PyDrive2) (0.6.1)\n",
            "Requirement already satisfied: pyasn1-modules>=0.0.5 in /usr/local/lib/python3.10/dist-packages (from oauth2client>=4.0.0->PyDrive2) (0.4.1)\n",
            "Requirement already satisfied: rsa>=3.1.4 in /usr/local/lib/python3.10/dist-packages (from oauth2client>=4.0.0->PyDrive2) (4.9)\n",
            "Requirement already satisfied: six>=1.6.1 in /usr/local/lib/python3.10/dist-packages (from oauth2client>=4.0.0->PyDrive2) (1.17.0)\n",
            "Requirement already satisfied: pycparser in /usr/local/lib/python3.10/dist-packages (from cffi>=1.12->cryptography<44->PyDrive2) (2.22)\n",
            "Requirement already satisfied: googleapis-common-protos<2.0.dev0,>=1.56.2 in /usr/local/lib/python3.10/dist-packages (from google-api-core!=2.0.*,!=2.1.*,!=2.2.*,!=2.3.0,<3.0.0.dev0,>=1.31.5->google-api-python-client>=1.12.5->PyDrive2) (1.66.0)\n",
            "Requirement already satisfied: protobuf!=3.20.0,!=3.20.1,!=4.21.0,!=4.21.1,!=4.21.2,!=4.21.3,!=4.21.4,!=4.21.5,<6.0.0.dev0,>=3.19.5 in /usr/local/lib/python3.10/dist-packages (from google-api-core!=2.0.*,!=2.1.*,!=2.2.*,!=2.3.0,<3.0.0.dev0,>=1.31.5->google-api-python-client>=1.12.5->PyDrive2) (4.25.5)\n",
            "Requirement already satisfied: proto-plus<2.0.0dev,>=1.22.3 in /usr/local/lib/python3.10/dist-packages (from google-api-core!=2.0.*,!=2.1.*,!=2.2.*,!=2.3.0,<3.0.0.dev0,>=1.31.5->google-api-python-client>=1.12.5->PyDrive2) (1.25.0)\n",
            "Requirement already satisfied: requests<3.0.0.dev0,>=2.18.0 in /usr/local/lib/python3.10/dist-packages (from google-api-core!=2.0.*,!=2.1.*,!=2.2.*,!=2.3.0,<3.0.0.dev0,>=1.31.5->google-api-python-client>=1.12.5->PyDrive2) (2.32.3)\n",
            "Requirement already satisfied: cachetools<6.0,>=2.0.0 in /usr/local/lib/python3.10/dist-packages (from google-auth!=2.24.0,!=2.25.0,<3.0.0.dev0,>=1.32.0->google-api-python-client>=1.12.5->PyDrive2) (5.5.0)\n",
            "Requirement already satisfied: pyparsing!=3.0.0,!=3.0.1,!=3.0.2,!=3.0.3,<4,>=2.4.2 in /usr/local/lib/python3.10/dist-packages (from httplib2<1.dev0,>=0.19.0->google-api-python-client>=1.12.5->PyDrive2) (3.2.0)\n",
            "Requirement already satisfied: charset-normalizer<4,>=2 in /usr/local/lib/python3.10/dist-packages (from requests<3.0.0.dev0,>=2.18.0->google-api-core!=2.0.*,!=2.1.*,!=2.2.*,!=2.3.0,<3.0.0.dev0,>=1.31.5->google-api-python-client>=1.12.5->PyDrive2) (3.4.0)\n",
            "Requirement already satisfied: idna<4,>=2.5 in /usr/local/lib/python3.10/dist-packages (from requests<3.0.0.dev0,>=2.18.0->google-api-core!=2.0.*,!=2.1.*,!=2.2.*,!=2.3.0,<3.0.0.dev0,>=1.31.5->google-api-python-client>=1.12.5->PyDrive2) (3.10)\n",
            "Requirement already satisfied: urllib3<3,>=1.21.1 in /usr/local/lib/python3.10/dist-packages (from requests<3.0.0.dev0,>=2.18.0->google-api-core!=2.0.*,!=2.1.*,!=2.2.*,!=2.3.0,<3.0.0.dev0,>=1.31.5->google-api-python-client>=1.12.5->PyDrive2) (2.2.3)\n",
            "Requirement already satisfied: certifi>=2017.4.17 in /usr/local/lib/python3.10/dist-packages (from requests<3.0.0.dev0,>=2.18.0->google-api-core!=2.0.*,!=2.1.*,!=2.2.*,!=2.3.0,<3.0.0.dev0,>=1.31.5->google-api-python-client>=1.12.5->PyDrive2) (2024.12.14)\n",
            "scGPT - INFO - match 22864/27983 genes in vocabulary of size 60697.\n"
          ]
        },
        {
          "output_type": "stream",
          "name": "stderr",
          "text": [
            "Embedding cells: 100%|██████████| 273/273 [13:52<00:00,  3.05s/it]\n",
            "/usr/local/lib/python3.10/dist-packages/scgpt/tasks/cell_emb.py:279: ImplicitModificationWarning: Setting element `.obsm['X_scGPT']` of view, initializing view as actual.\n",
            "  adata.obsm[\"X_scGPT\"] = cell_embeddings\n"
          ]
        },
        {
          "output_type": "stream",
          "name": "stdout",
          "text": [
            "CPU times: user 13min 21s, sys: 10.9 s, total: 13min 32s\n",
            "Wall time: 14min 10s\n"
          ]
        }
      ],
      "source": [
        "%%time\n",
        "!pip install --upgrade PyDrive2\n",
        "\n",
        "# import warnings\n",
        "# warnings.filterwarnings(\"ignore\", category=ImportWarning)\n",
        "\n",
        "ref_embed_adata = scg.tasks.embed_data(\n",
        "    adata_train,\n",
        "    model_dir,\n",
        "    gene_col=gene_col,\n",
        "    batch_size=batch_size,\n",
        "    device=\"cuda\",\n",
        "    use_fast_transformer=False,\n",
        ")\n"
      ]
    },
    {
      "cell_type": "code",
      "source": [
        "# Clear memory\n",
        "del adata_train\n",
        "gc.collect()"
      ],
      "metadata": {
        "colab": {
          "base_uri": "https://localhost:8080/"
        },
        "id": "f-Mt3Gkxry1r",
        "outputId": "26c93e83-77ca-41a5-c5ce-8f86c9489f87"
      },
      "execution_count": 13,
      "outputs": [
        {
          "output_type": "execute_result",
          "data": {
            "text/plain": [
              "164"
            ]
          },
          "metadata": {},
          "execution_count": 13
        }
      ]
    },
    {
      "cell_type": "markdown",
      "metadata": {
        "id": "Tn3rZ2UVJZRu"
      },
      "source": [
        "\n",
        "QUERY SCGPT EMBEDDING"
      ]
    },
    {
      "cell_type": "code",
      "execution_count": 14,
      "metadata": {
        "colab": {
          "base_uri": "https://localhost:8080/"
        },
        "id": "LzXHhbZEJZRu",
        "outputId": "8956435f-164f-41dd-ff76-653e443b75d9"
      },
      "outputs": [
        {
          "output_type": "stream",
          "name": "stdout",
          "text": [
            "Requirement already satisfied: PyDrive2 in /usr/local/lib/python3.10/dist-packages (1.21.3)\n",
            "Requirement already satisfied: google-api-python-client>=1.12.5 in /usr/local/lib/python3.10/dist-packages (from PyDrive2) (2.155.0)\n",
            "Requirement already satisfied: oauth2client>=4.0.0 in /usr/local/lib/python3.10/dist-packages (from PyDrive2) (4.1.3)\n",
            "Requirement already satisfied: PyYAML>=3.0 in /usr/local/lib/python3.10/dist-packages (from PyDrive2) (6.0.2)\n",
            "Requirement already satisfied: cryptography<44 in /usr/local/lib/python3.10/dist-packages (from PyDrive2) (43.0.3)\n",
            "Requirement already satisfied: pyOpenSSL<=24.2.1,>=19.1.0 in /usr/local/lib/python3.10/dist-packages (from PyDrive2) (24.2.1)\n",
            "Requirement already satisfied: cffi>=1.12 in /usr/local/lib/python3.10/dist-packages (from cryptography<44->PyDrive2) (1.17.1)\n",
            "Requirement already satisfied: httplib2<1.dev0,>=0.19.0 in /usr/local/lib/python3.10/dist-packages (from google-api-python-client>=1.12.5->PyDrive2) (0.22.0)\n",
            "Requirement already satisfied: google-auth!=2.24.0,!=2.25.0,<3.0.0.dev0,>=1.32.0 in /usr/local/lib/python3.10/dist-packages (from google-api-python-client>=1.12.5->PyDrive2) (2.27.0)\n",
            "Requirement already satisfied: google-auth-httplib2<1.0.0,>=0.2.0 in /usr/local/lib/python3.10/dist-packages (from google-api-python-client>=1.12.5->PyDrive2) (0.2.0)\n",
            "Requirement already satisfied: google-api-core!=2.0.*,!=2.1.*,!=2.2.*,!=2.3.0,<3.0.0.dev0,>=1.31.5 in /usr/local/lib/python3.10/dist-packages (from google-api-python-client>=1.12.5->PyDrive2) (2.19.2)\n",
            "Requirement already satisfied: uritemplate<5,>=3.0.1 in /usr/local/lib/python3.10/dist-packages (from google-api-python-client>=1.12.5->PyDrive2) (4.1.1)\n",
            "Requirement already satisfied: pyasn1>=0.1.7 in /usr/local/lib/python3.10/dist-packages (from oauth2client>=4.0.0->PyDrive2) (0.6.1)\n",
            "Requirement already satisfied: pyasn1-modules>=0.0.5 in /usr/local/lib/python3.10/dist-packages (from oauth2client>=4.0.0->PyDrive2) (0.4.1)\n",
            "Requirement already satisfied: rsa>=3.1.4 in /usr/local/lib/python3.10/dist-packages (from oauth2client>=4.0.0->PyDrive2) (4.9)\n",
            "Requirement already satisfied: six>=1.6.1 in /usr/local/lib/python3.10/dist-packages (from oauth2client>=4.0.0->PyDrive2) (1.17.0)\n",
            "Requirement already satisfied: pycparser in /usr/local/lib/python3.10/dist-packages (from cffi>=1.12->cryptography<44->PyDrive2) (2.22)\n",
            "Requirement already satisfied: googleapis-common-protos<2.0.dev0,>=1.56.2 in /usr/local/lib/python3.10/dist-packages (from google-api-core!=2.0.*,!=2.1.*,!=2.2.*,!=2.3.0,<3.0.0.dev0,>=1.31.5->google-api-python-client>=1.12.5->PyDrive2) (1.66.0)\n",
            "Requirement already satisfied: protobuf!=3.20.0,!=3.20.1,!=4.21.0,!=4.21.1,!=4.21.2,!=4.21.3,!=4.21.4,!=4.21.5,<6.0.0.dev0,>=3.19.5 in /usr/local/lib/python3.10/dist-packages (from google-api-core!=2.0.*,!=2.1.*,!=2.2.*,!=2.3.0,<3.0.0.dev0,>=1.31.5->google-api-python-client>=1.12.5->PyDrive2) (4.25.5)\n",
            "Requirement already satisfied: proto-plus<2.0.0dev,>=1.22.3 in /usr/local/lib/python3.10/dist-packages (from google-api-core!=2.0.*,!=2.1.*,!=2.2.*,!=2.3.0,<3.0.0.dev0,>=1.31.5->google-api-python-client>=1.12.5->PyDrive2) (1.25.0)\n",
            "Requirement already satisfied: requests<3.0.0.dev0,>=2.18.0 in /usr/local/lib/python3.10/dist-packages (from google-api-core!=2.0.*,!=2.1.*,!=2.2.*,!=2.3.0,<3.0.0.dev0,>=1.31.5->google-api-python-client>=1.12.5->PyDrive2) (2.32.3)\n",
            "Requirement already satisfied: cachetools<6.0,>=2.0.0 in /usr/local/lib/python3.10/dist-packages (from google-auth!=2.24.0,!=2.25.0,<3.0.0.dev0,>=1.32.0->google-api-python-client>=1.12.5->PyDrive2) (5.5.0)\n",
            "Requirement already satisfied: pyparsing!=3.0.0,!=3.0.1,!=3.0.2,!=3.0.3,<4,>=2.4.2 in /usr/local/lib/python3.10/dist-packages (from httplib2<1.dev0,>=0.19.0->google-api-python-client>=1.12.5->PyDrive2) (3.2.0)\n",
            "Requirement already satisfied: charset-normalizer<4,>=2 in /usr/local/lib/python3.10/dist-packages (from requests<3.0.0.dev0,>=2.18.0->google-api-core!=2.0.*,!=2.1.*,!=2.2.*,!=2.3.0,<3.0.0.dev0,>=1.31.5->google-api-python-client>=1.12.5->PyDrive2) (3.4.0)\n",
            "Requirement already satisfied: idna<4,>=2.5 in /usr/local/lib/python3.10/dist-packages (from requests<3.0.0.dev0,>=2.18.0->google-api-core!=2.0.*,!=2.1.*,!=2.2.*,!=2.3.0,<3.0.0.dev0,>=1.31.5->google-api-python-client>=1.12.5->PyDrive2) (3.10)\n",
            "Requirement already satisfied: urllib3<3,>=1.21.1 in /usr/local/lib/python3.10/dist-packages (from requests<3.0.0.dev0,>=2.18.0->google-api-core!=2.0.*,!=2.1.*,!=2.2.*,!=2.3.0,<3.0.0.dev0,>=1.31.5->google-api-python-client>=1.12.5->PyDrive2) (2.2.3)\n",
            "Requirement already satisfied: certifi>=2017.4.17 in /usr/local/lib/python3.10/dist-packages (from requests<3.0.0.dev0,>=2.18.0->google-api-core!=2.0.*,!=2.1.*,!=2.2.*,!=2.3.0,<3.0.0.dev0,>=1.31.5->google-api-python-client>=1.12.5->PyDrive2) (2024.12.14)\n",
            "scGPT - INFO - match 22864/27983 genes in vocabulary of size 60697.\n"
          ]
        },
        {
          "output_type": "stream",
          "name": "stderr",
          "text": [
            "Embedding cells: 100%|██████████| 75/75 [03:48<00:00,  3.05s/it]\n",
            "/usr/local/lib/python3.10/dist-packages/scgpt/tasks/cell_emb.py:279: ImplicitModificationWarning: Setting element `.obsm['X_scGPT']` of view, initializing view as actual.\n",
            "  adata.obsm[\"X_scGPT\"] = cell_embeddings\n"
          ]
        },
        {
          "output_type": "stream",
          "name": "stdout",
          "text": [
            "CPU times: user 3min 54s, sys: 6.3 s, total: 4min\n",
            "Wall time: 4min 21s\n"
          ]
        }
      ],
      "source": [
        "%%time\n",
        "\n",
        "!pip install --upgrade PyDrive2\n",
        "\n",
        "# import warnings\n",
        "# warnings.filterwarnings(\"ignore\", category=ImportWarning)\n",
        "\n",
        "test_embed_adata = scg.tasks.embed_data(\n",
        "    adata_test,\n",
        "    model_dir,\n",
        "    gene_col=gene_col,\n",
        "    batch_size=batch_size,\n",
        "    device=\"cuda\",\n",
        "    use_fast_transformer=False,\n",
        ")"
      ]
    },
    {
      "cell_type": "markdown",
      "metadata": {
        "id": "fdt0Jn9UJZRu"
      },
      "source": [
        "QUERY CELL TYPE MASKING"
      ]
    },
    {
      "cell_type": "code",
      "execution_count": 15,
      "metadata": {
        "colab": {
          "base_uri": "https://localhost:8080/"
        },
        "id": "S6LNxjI3JZRu",
        "outputId": "7e1c6355-9bb0-40d7-80dc-8f7af1365fc1"
      },
      "outputs": [
        {
          "output_type": "stream",
          "name": "stderr",
          "text": [
            "<ipython-input-15-e57926d27f57>:2: FutureWarning: Use anndata.concat instead of AnnData.concatenate, AnnData.concatenate is deprecated and will be removed in the future. See the tutorial for concat at: https://anndata.readthedocs.io/en/latest/concatenation.html\n",
            "  adata_concat = test_embed_adata.concatenate(ref_embed_adata, batch_key=\"dataset\")\n",
            "<ipython-input-15-e57926d27f57>:11: FutureWarning: ChainedAssignmentError: behaviour will change in pandas 3.0!\n",
            "You are setting values through chained assignment. Currently this works in certain cases, but when using Copy-on-Write (which will become the default behaviour in pandas 3.0) this will never work to update the original DataFrame or Series, because the intermediate object on which we are setting values will behave as a copy.\n",
            "A typical example is when you are setting values in a column of a DataFrame, like:\n",
            "\n",
            "df[\"col\"][row_indexer] = value\n",
            "\n",
            "Use `df.loc[row_indexer, \"col\"] = values` instead, to perform the assignment in a single step and ensure this keeps updating the original `df`.\n",
            "\n",
            "See the caveats in the documentation: https://pandas.pydata.org/pandas-docs/stable/user_guide/indexing.html#returning-a-view-versus-a-copy\n",
            "\n",
            "  adata_concat.obs[cell_type_key][: len(test_embed_adata)] = \"To be predicted\"\n"
          ]
        }
      ],
      "source": [
        "# concatenate the two datasets\n",
        "adata_concat = test_embed_adata.concatenate(ref_embed_adata, batch_key=\"dataset\")\n",
        "# mark the reference vs. query dataset\n",
        "adata_concat.obs[\"is_ref\"] = [\"Query\"] * len(test_embed_adata) + [\"Reference\"] * len(\n",
        "    ref_embed_adata\n",
        ")\n",
        "adata_concat.obs[\"is_ref\"] = adata_concat.obs[\"is_ref\"].astype(\"category\")\n",
        "# mask the query dataset cell types\n",
        "adata_concat.obs[cell_type_key] = adata_concat.obs[cell_type_key].astype(\"category\")\n",
        "adata_concat.obs[cell_type_key] = adata_concat.obs[cell_type_key].cat.add_categories([\"To be predicted\"])\n",
        "adata_concat.obs[cell_type_key][: len(test_embed_adata)] = \"To be predicted\""
      ]
    },
    {
      "cell_type": "code",
      "execution_count": 16,
      "metadata": {
        "id": "4eUW3uFk4Mph"
      },
      "outputs": [],
      "source": [
        "# from google.colab import drive\n",
        "# drive.mount('/content/drive')\n",
        "\n",
        "# saving concatenated files for post-processing UMAPs\n",
        "adata_concat.write('/content/drive/My Drive/Neftel_test_GBMAP_train_embed_full_concat.h5ad')\n",
        "\n",
        "# temp files for re-runs --- write\n",
        "# ref_embed_adata.write('/content/drive/My Drive/GBMAP_train_embed_ref.h5ad')\n",
        "# test_embed_adata.write('/content/drive/My Drive/Neftel_test_embed_query.h5ad')\n",
        "\n",
        "# temp files for re-runs --- read\n",
        "# ref_embed_adata = sc.read_h5ad('/content/drive/My Drive/GBMAP_train_embed_ref.h5ad')\n",
        "# test_embed_adata = sc.read_h5ad('/content/drive/My Drive/Neftel_test_embed_query.h5ad')"
      ]
    },
    {
      "cell_type": "markdown",
      "metadata": {
        "id": "3sZJ0z08JZRv"
      },
      "source": [
        "## Reference mapping and transfer the annotations"
      ]
    },
    {
      "cell_type": "markdown",
      "metadata": {
        "id": "PQecXnkXJZRv"
      },
      "source": [
        "We run the reference mapping using cell-level majority voting. You may adjust the `k` parameter to control the number of nearest neighbors to consider for voting."
      ]
    },
    {
      "cell_type": "code",
      "execution_count": 18,
      "metadata": {
        "id": "ltfemR-RJZRv"
      },
      "outputs": [],
      "source": [
        "# Those functions are only used when faiss is not installed\n",
        "# Compute L2 similarity (negative Euclidean distance) between a vector and reference vectors\n",
        "def l2_sim(a, b):\n",
        "    sims = -np.linalg.norm(a - b, axis=1)\n",
        "    return sims\n",
        "\n",
        "# Retrieve the top-k most similar vectors from the reference set\n",
        "def get_similar_vectors(vector, ref, top_k=10):\n",
        "        # sims = cos_sim(vector, ref)\n",
        "        # Calculate similarities (using L2 distance)\n",
        "        sims = l2_sim(vector, ref)\n",
        "\n",
        "        # Get indices of the top-k highest similarity scores\n",
        "        top_k_idx = np.argsort(sims)[::-1][:top_k]\n",
        "        return top_k_idx, sims[top_k_idx]"
      ]
    },
    {
      "cell_type": "code",
      "execution_count": 19,
      "metadata": {
        "colab": {
          "base_uri": "https://localhost:8080/"
        },
        "id": "NC-00UOdJZRv",
        "outputId": "eb7f26f3-db1a-43ed-fe11-9d0f741ed970"
      },
      "outputs": [
        {
          "output_type": "stream",
          "name": "stdout",
          "text": [
            "CPU times: user 37 s, sys: 619 ms, total: 37.6 s\n",
            "Wall time: 40.8 s\n"
          ]
        }
      ],
      "source": [
        "%%time\n",
        "warnings.simplefilter(action='ignore', category=FutureWarning)\n",
        "\n",
        "# Extract embeddings from reference and test datasets\n",
        "ref_cell_embeddings = ref_embed_adata.obsm[\"X_scGPT\"]\n",
        "test_embed = test_embed_adata.obsm[\"X_scGPT\"]\n",
        "cell_type_key = \"annotation_level_3\" # Key for cell type annotations\n",
        "\n",
        "k = 10  # Number of nearest neighbors to consider\n",
        "\n",
        "# Create a FAISS index for the reference embeddings and add data to it\n",
        "index = faiss.IndexFlatL2(ref_cell_embeddings.shape[1])\n",
        "index.add(ref_cell_embeddings)\n",
        "\n",
        "# Perform a k-nearest neighbor search for the test embeddings\n",
        "distances, labels = index.search(test_embed, k)\n",
        "\n",
        "# Predict cell types for each test embedding\n",
        "idx_list=[i for i in range(test_embed.shape[0])]\n",
        "preds = []\n",
        "sim_list = distances\n",
        "for k in idx_list:\n",
        "    if faiss_imported:\n",
        "        idx = labels[k]\n",
        "    else:\n",
        "        idx, sim = get_similar_vectors(test_embed[k][np.newaxis, ...], ref_cell_embeddings, k)\n",
        "    pred = ref_embed_adata.obs[cell_type_key][idx].value_counts()\n",
        "    preds.append(pred.index[0])\n",
        "\n",
        "# Store the predicted cell types in the test dataset\n",
        "test_embed_adata.obs[\"predicted_cell_type\"] = preds\n",
        "\n",
        "# Ground truth cell types for comparison\n",
        "gt = adata_test.obs[cell_type_key].to_numpy()"
      ]
    },
    {
      "cell_type": "code",
      "source": [
        "# Saving new test_embed_adata with predictions to calculate ARI and plot on UMAP in post-processing scripts (optional)\n",
        "test_embed_adata.write('/content/drive/My Drive/Neftel_test_embed_query_preds.h5ad')"
      ],
      "metadata": {
        "id": "Wp9eBS4TNq7F"
      },
      "execution_count": 20,
      "outputs": []
    },
    {
      "cell_type": "markdown",
      "metadata": {
        "id": "wvHgKPotJZRv"
      },
      "source": [
        "## Performance Metrics"
      ]
    },
    {
      "cell_type": "code",
      "execution_count": 21,
      "metadata": {
        "colab": {
          "base_uri": "https://localhost:8080/"
        },
        "id": "YwLwHFTLJZRv",
        "outputId": "9e574649-9d44-4aeb-845f-e3c055c76e2a"
      },
      "outputs": [
        {
          "output_type": "stream",
          "name": "stderr",
          "text": [
            "/usr/local/lib/python3.10/dist-packages/sklearn/metrics/_classification.py:1565: UndefinedMetricWarning: Precision is ill-defined and being set to 0.0 in labels with no predicted samples. Use `zero_division` parameter to control this behavior.\n",
            "  _warn_prf(average, modifier, f\"{metric.capitalize()} is\", len(result))\n"
          ]
        },
        {
          "output_type": "execute_result",
          "data": {
            "text/plain": [
              "{'accuracy': 0.5861271676300578,\n",
              " 'precision': 0.5935261626433713,\n",
              " 'recall': 0.4537162585780575,\n",
              " 'macro_f1': 0.48112567763070213}"
            ]
          },
          "metadata": {},
          "execution_count": 21
        }
      ],
      "source": [
        "res_dict = {\n",
        "    \"accuracy\": accuracy_score(gt, preds),\n",
        "    \"precision\": precision_score(gt, preds, average=\"macro\"),\n",
        "    \"recall\": recall_score(gt, preds, average=\"macro\"),\n",
        "    \"macro_f1\": f1_score(gt, preds, average=\"macro\"),\n",
        "}\n",
        "\n",
        "res_dict"
      ]
    },
    {
      "cell_type": "markdown",
      "metadata": {
        "id": "Sh-dtwCRJZRv"
      },
      "source": [
        "## Plotting Confusion Matrix (True vs Predicted)"
      ]
    },
    {
      "cell_type": "code",
      "execution_count": 22,
      "metadata": {
        "colab": {
          "base_uri": "https://localhost:8080/",
          "height": 754
        },
        "id": "EYy_AESrJZRv",
        "outputId": "8395cb5e-f121-4698-9110-c51ff8690047"
      },
      "outputs": [
        {
          "output_type": "display_data",
          "data": {
            "text/plain": [
              "<Figure size 1400x1400 with 4 Axes>"
            ],
            "image/png": "[encoded data removed]"
          },
          "metadata": {}
        }
      ],
      "source": [
        "# Extract true labels and predicted labels\n",
        "y_true = adata_test.obs[cell_type_key].to_numpy()\n",
        "y_pred = preds\n",
        "\n",
        "# Create a list of unique cell types and compute the confusion matrix\n",
        "cell_type_list = np.unique(y_true)\n",
        "matrix = confusion_matrix(y_true, y_pred, labels=cell_type_list)\n",
        "\n",
        "# Normalize the confusion matrix to calculate proportions\n",
        "matrix = matrix.astype(\"float\") / matrix.sum(axis=1)[:, np.newaxis]\n",
        "\n",
        "# Convert the matrix to a Pandas DataFrame for visualization\n",
        "df = pd.DataFrame(matrix, index=cell_type_list[:matrix.shape[0]], columns=cell_type_list[:matrix.shape[1]])\n",
        "\n",
        "# Generate a heatmap of the confusion matrix\n",
        "ax = sns.clustermap(\n",
        "    df,\n",
        "    cmap='Purples',              # Colour map\n",
        "    annot=True,                  # Add value annotations\n",
        "    fmt=\".2f\",                   # Format annotations to two decimals\n",
        "    annot_kws={'size': 8},       # Annotation font size\n",
        "    vmin=0, vmax=1,              # Normalize colormap between 0 and 1\n",
        "    row_cluster=False,           # Disable row clustering\n",
        "    col_cluster=False,           # Disable column clustering\n",
        "    figsize=(14, 14)             # Set figure size\n",
        ")"
      ]
    },
    {
      "cell_type": "markdown",
      "source": [
        "## Pip Freeze Packages (Python 3.10.12):"
      ],
      "metadata": {
        "id": "nvNqmL0aQa5Y"
      }
    },
    {
      "cell_type": "code",
      "source": [
        "pip freeze"
      ],
      "metadata": {
        "colab": {
          "base_uri": "https://localhost:8080/"
        },
        "id": "jtVfcvgdQYpP",
        "outputId": "779c530d-1afc-482d-ea0e-d06cd9ae91f2"
      },
      "execution_count": null,
      "outputs": [
        {
          "output_type": "stream",
          "name": "stdout",
          "text": [
            "absl-py==1.4.0\n",
            "accelerate==1.2.1\n",
            "aiohappyeyeballs==2.4.4\n",
            "aiohttp==3.11.10\n",
            "aiosignal==1.3.2\n",
            "alabaster==1.0.0\n",
            "albucore==0.0.19\n",
            "albumentations==1.4.20\n",
            "altair==5.5.0\n",
            "anndata==0.11.3\n",
            "annotated-types==0.7.0\n",
            "anyio==3.7.1\n",
            "argon2-cffi==23.1.0\n",
            "argon2-cffi-bindings==21.2.0\n",
            "array_api_compat==1.10.0\n",
            "array_record==0.5.1\n",
            "arviz==0.20.0\n",
            "astropy==6.1.7\n",
            "astropy-iers-data==0.2024.12.16.0.35.48\n",
            "astunparse==1.6.3\n",
            "async-timeout==4.0.3\n",
            "atpublic==4.1.0\n",
            "attrs==24.3.0\n",
            "audioread==3.0.1\n",
            "autograd==1.7.0\n",
            "babel==2.16.0\n",
            "backcall==0.2.0\n",
            "beautifulsoup4==4.12.3\n",
            "bigframes==1.29.0\n",
            "bigquery-magics==0.4.0\n",
            "bleach==6.2.0\n",
            "blinker==1.9.0\n",
            "blis==0.7.11\n",
            "blosc2==2.7.1\n",
            "bokeh==3.6.2\n",
            "Bottleneck==1.4.2\n",
            "bqplot==0.12.43\n",
            "branca==0.8.1\n",
            "CacheControl==0.14.1\n",
            "cached-property==2.0.1\n",
            "cachetools==5.5.0\n",
            "catalogue==2.0.10\n",
            "cell-gears==0.0.2\n",
            "certifi==2024.12.14\n",
            "cffi==1.17.1\n",
            "chardet==5.2.0\n",
            "charset-normalizer==3.4.0\n",
            "chex==0.1.88\n",
            "clarabel==0.9.0\n",
            "click==8.1.7\n",
            "cloudpathlib==0.20.0\n",
            "cloudpickle==3.1.0\n",
            "cmake==3.31.2\n",
            "cmdstanpy==1.2.5\n",
            "colorcet==3.1.0\n",
            "colorlover==0.3.0\n",
            "colour==0.1.5\n",
            "community==1.0.0b1\n",
            "confection==0.1.5\n",
            "cons==0.4.6\n",
            "contourpy==1.3.1\n",
            "cryptography==43.0.3\n",
            "cuda-python==12.2.1\n",
            "cudf-cu12 @ https://pypi.nvidia.com/cudf-cu12/cudf_cu12-24.10.1-cp310-cp310-manylinux_2_24_x86_64.manylinux_2_28_x86_64.whl\n",
            "cufflinks==0.17.3\n",
            "cupy-cuda12x==12.2.0\n",
            "cvxopt==1.3.2\n",
            "cvxpy==1.6.0\n",
            "cycler==0.12.1\n",
            "cymem==2.0.10\n",
            "Cython==3.0.11\n",
            "dask==2024.10.0\n",
            "datascience==0.17.6\n",
            "datasets==2.21.0\n",
            "db-dtypes==1.3.1\n",
            "dbus-python==1.2.18\n",
            "dcor==0.6\n",
            "debugpy==1.8.0\n",
            "decorator==4.4.2\n",
            "defusedxml==0.7.1\n",
            "Deprecated==1.2.15\n",
            "diffusers==0.31.0\n",
            "dill==0.3.8\n",
            "distro==1.9.0\n",
            "dlib==19.24.2\n",
            "dm-tree==0.1.8\n",
            "docker-pycreds==0.4.0\n",
            "docrep==0.3.2\n",
            "docstring_parser==0.16\n",
            "docutils==0.21.2\n",
            "dopamine_rl==4.1.0\n",
            "duckdb==1.1.3\n",
            "earthengine-api==1.4.3\n",
            "easydict==1.13\n",
            "editdistance==0.8.1\n",
            "eerepr==0.0.4\n",
            "einops==0.8.0\n",
            "en-core-web-sm @ https://github.com/explosion/spacy-models/releases/download/en_core_web_sm-3.7.1/en_core_web_sm-3.7.1-py3-none-any.whl#sha256=86cc141f63942d4b2c5fcee06630fd6f904788d2f0ab005cce45aadb8fb73889\n",
            "entrypoints==0.4\n",
            "et_xmlfile==2.0.0\n",
            "etils==1.11.0\n",
            "etuples==0.3.9\n",
            "eval_type_backport==0.2.0\n",
            "exceptiongroup==1.2.2\n",
            "faiss-gpu==1.7.2\n",
            "fastai==2.7.18\n",
            "fastcore==1.7.27\n",
            "fastdownload==0.0.7\n",
            "fastjsonschema==2.21.1\n",
            "fastprogress==1.0.3\n",
            "fastrlock==0.8.3\n",
            "filelock==3.16.1\n",
            "firebase-admin==6.6.0\n",
            "Flask==3.1.0\n",
            "flatbuffers==24.3.25\n",
            "flax==0.8.5\n",
            "folium==0.19.2\n",
            "fonttools==4.55.3\n",
            "frozendict==2.4.6\n",
            "frozenlist==1.5.0\n",
            "fsspec==2024.6.1\n",
            "future==1.0.0\n",
            "gast==0.6.0\n",
            "gcsfs==2024.10.0\n",
            "GDAL==3.6.4\n",
            "gdown==5.2.0\n",
            "geemap==0.35.1\n",
            "gensim==4.3.3\n",
            "geocoder==1.38.1\n",
            "geographiclib==2.0\n",
            "geopandas==1.0.1\n",
            "geopy==2.4.1\n",
            "gin-config==0.5.0\n",
            "gitdb==4.0.11\n",
            "GitPython==3.1.43\n",
            "glob2==0.7\n",
            "google==2.0.3\n",
            "google-ai-generativelanguage==0.6.10\n",
            "google-api-core==2.19.2\n",
            "google-api-python-client==2.155.0\n",
            "google-auth==2.27.0\n",
            "google-auth-httplib2==0.2.0\n",
            "google-auth-oauthlib==1.2.1\n",
            "google-cloud-aiplatform==1.74.0\n",
            "google-cloud-bigquery==3.25.0\n",
            "google-cloud-bigquery-connection==1.17.0\n",
            "google-cloud-bigquery-storage==2.27.0\n",
            "google-cloud-bigtable==2.27.0\n",
            "google-cloud-core==2.4.1\n",
            "google-cloud-datastore==2.20.2\n",
            "google-cloud-firestore==2.19.0\n",
            "google-cloud-functions==1.19.0\n",
            "google-cloud-iam==2.17.0\n",
            "google-cloud-language==2.16.0\n",
            "google-cloud-pubsub==2.27.1\n",
            "google-cloud-resource-manager==1.14.0\n",
            "google-cloud-storage==2.19.0\n",
            "google-cloud-translate==3.19.0\n",
            "google-colab @ file:///colabtools/dist/google_colab-1.0.0.tar.gz\n",
            "google-crc32c==1.6.0\n",
            "google-genai==0.3.0\n",
            "google-generativeai==0.8.3\n",
            "google-pasta==0.2.0\n",
            "google-resumable-media==2.7.2\n",
            "googleapis-common-protos==1.66.0\n",
            "googledrivedownloader==0.4\n",
            "graphviz==0.20.3\n",
            "greenlet==3.1.1\n",
            "grpc-google-iam-v1==0.13.1\n",
            "grpcio==1.68.1\n",
            "grpcio-status==1.62.3\n",
            "gspread==6.0.2\n",
            "gspread-dataframe==3.3.1\n",
            "gym==0.25.2\n",
            "gym-notices==0.0.8\n",
            "h11==0.14.0\n",
            "h5netcdf==1.4.1\n",
            "h5py==3.12.1\n",
            "holidays==0.63\n",
            "holoviews==1.20.0\n",
            "html5lib==1.1\n",
            "httpcore==1.0.7\n",
            "httpimport==1.4.0\n",
            "httplib2==0.22.0\n",
            "httpx==0.28.1\n",
            "huggingface-hub==0.27.0\n",
            "humanize==4.11.0\n",
            "hyperopt==0.2.7\n",
            "ibis-framework==9.2.0\n",
            "idna==3.10\n",
            "igraph==0.11.8\n",
            "imageio==2.36.1\n",
            "imageio-ffmpeg==0.5.1\n",
            "imagesize==1.4.1\n",
            "imbalanced-learn==0.12.4\n",
            "imgaug==0.4.0\n",
            "immutabledict==4.2.1\n",
            "importlib_metadata==8.5.0\n",
            "importlib_resources==6.4.5\n",
            "imutils==0.5.4\n",
            "inflect==7.4.0\n",
            "iniconfig==2.0.0\n",
            "intel-cmplr-lib-ur==2025.0.4\n",
            "intel-openmp==2025.0.4\n",
            "ipyevents==2.0.2\n",
            "ipyfilechooser==0.6.0\n",
            "ipykernel==5.5.6\n",
            "ipyleaflet==0.19.2\n",
            "ipyparallel==8.8.0\n",
            "ipython==7.34.0\n",
            "ipython-genutils==0.2.0\n",
            "ipython-sql==0.5.0\n",
            "ipytree==0.2.2\n",
            "ipywidgets==7.7.1\n",
            "itsdangerous==2.2.0\n",
            "jax==0.4.33\n",
            "jax-cuda12-pjrt==0.4.33\n",
            "jax-cuda12-plugin==0.4.33\n",
            "jaxlib==0.4.33\n",
            "jeepney==0.7.1\n",
            "jellyfish==1.1.0\n",
            "jieba==0.42.1\n",
            "Jinja2==3.1.4\n",
            "jiter==0.8.2\n",
            "joblib==1.4.2\n",
            "jsonpatch==1.33\n",
            "jsonpickle==4.0.1\n",
            "jsonpointer==3.0.0\n",
            "jsonschema==4.23.0\n",
            "jsonschema-specifications==2024.10.1\n",
            "jupyter-client==6.1.12\n",
            "jupyter-console==6.1.0\n",
            "jupyter-leaflet==0.19.2\n",
            "jupyter-server==1.24.0\n",
            "jupyter_core==5.7.2\n",
            "jupyterlab_pygments==0.3.0\n",
            "jupyterlab_widgets==3.0.13\n",
            "kaggle==1.6.17\n",
            "kagglehub==0.3.5\n",
            "keras==3.5.0\n",
            "keyring==23.5.0\n",
            "kiwisolver==1.4.7\n",
            "langchain==0.3.12\n",
            "langchain-core==0.3.25\n",
            "langchain-text-splitters==0.3.3\n",
            "langcodes==3.5.0\n",
            "langsmith==0.2.3\n",
            "language_data==1.3.0\n",
            "launchpadlib==1.10.16\n",
            "lazr.restfulclient==0.14.4\n",
            "lazr.uri==1.0.6\n",
            "lazy_loader==0.4\n",
            "legacy-api-wrap==1.4.1\n",
            "leidenalg==0.10.2\n",
            "libclang==18.1.1\n",
            "libcudf-cu12 @ https://pypi.nvidia.com/libcudf-cu12/libcudf_cu12-24.10.1-py3-none-manylinux_2_28_x86_64.whl\n",
            "librosa==0.10.2.post1\n",
            "lightgbm==4.5.0\n",
            "lightning-utilities==0.12.0\n",
            "linkify-it-py==2.0.3\n",
            "llvmlite==0.43.0\n",
            "locket==1.0.0\n",
            "logical-unification==0.4.6\n",
            "louvain==0.8.2\n",
            "lxml==5.3.0\n",
            "marisa-trie==1.2.1\n",
            "Markdown==3.7\n",
            "markdown-it-py==3.0.0\n",
            "MarkupSafe==3.0.2\n",
            "matplotlib==3.8.0\n",
            "matplotlib-inline==0.1.7\n",
            "matplotlib-venn==1.1.1\n",
            "mdit-py-plugins==0.4.2\n",
            "mdurl==0.1.2\n",
            "miniKanren==1.0.3\n",
            "missingno==0.5.2\n",
            "mistune==3.0.2\n",
            "mizani==0.13.1\n",
            "mkl==2025.0.1\n",
            "ml-dtypes==0.4.1\n",
            "ml_collections==1.0.0\n",
            "mlxtend==0.23.3\n",
            "more-itertools==10.5.0\n",
            "moviepy==1.0.3\n",
            "mpmath==1.3.0\n",
            "msgpack==1.1.0\n",
            "mudata==0.3.1\n",
            "multidict==6.1.0\n",
            "multipledispatch==1.0.0\n",
            "multiprocess==0.70.16\n",
            "multitasking==0.0.11\n",
            "murmurhash==1.0.11\n",
            "music21==9.3.0\n",
            "namex==0.0.8\n",
            "narwhals==1.18.4\n",
            "natsort==8.4.0\n",
            "nbclassic==1.1.0\n",
            "nbclient==0.10.1\n",
            "nbconvert==7.16.4\n",
            "nbformat==5.10.4\n",
            "ndindex==1.9.2\n",
            "nest-asyncio==1.6.0\n",
            "networkx==3.4.2\n",
            "nibabel==5.3.2\n",
            "nltk==3.9.1\n",
            "notebook==6.5.5\n",
            "notebook_shim==0.2.4\n",
            "numba==0.60.0\n",
            "numexpr==2.10.2\n",
            "numpy==1.26.4\n",
            "numpyro==0.16.1\n",
            "nvidia-cublas-cu12==12.1.3.1\n",
            "nvidia-cuda-cupti-cu12==12.1.105\n",
            "nvidia-cuda-nvcc-cu12==12.6.85\n",
            "nvidia-cuda-nvrtc-cu12==12.1.105\n",
            "nvidia-cuda-runtime-cu12==12.1.105\n",
            "nvidia-cudnn-cu12==8.9.2.26\n",
            "nvidia-cufft-cu12==11.0.2.54\n",
            "nvidia-curand-cu12==10.3.2.106\n",
            "nvidia-cusolver-cu12==11.4.5.107\n",
            "nvidia-cusparse-cu12==12.1.0.106\n",
            "nvidia-nccl-cu12==2.18.1\n",
            "nvidia-nvjitlink-cu12==12.6.85\n",
            "nvidia-nvtx-cu12==12.1.105\n",
            "nvtx==0.2.10\n",
            "nx-cugraph-cu12 @ https://pypi.nvidia.com/nx-cugraph-cu12/nx_cugraph_cu12-24.10.0-py3-none-any.whl\n",
            "oauth2client==4.1.3\n",
            "oauthlib==3.2.2\n",
            "openai==1.57.4\n",
            "opencv-contrib-python==4.10.0.84\n",
            "opencv-python==4.10.0.84\n",
            "opencv-python-headless==4.10.0.84\n",
            "openpyxl==3.1.5\n",
            "opentelemetry-api==1.29.0\n",
            "opentelemetry-sdk==1.29.0\n",
            "opentelemetry-semantic-conventions==0.50b0\n",
            "opt_einsum==3.4.0\n",
            "optax==0.2.4\n",
            "optree==0.13.1\n",
            "orbax==0.1.7\n",
            "orbax-checkpoint==0.6.4\n",
            "orjson==3.10.12\n",
            "osqp==0.6.7.post3\n",
            "packaging==24.2\n",
            "pandas==2.2.2\n",
            "pandas-datareader==0.10.0\n",
            "pandas-gbq==0.25.0\n",
            "pandas-stubs==2.2.2.240909\n",
            "pandocfilters==1.5.1\n",
            "panel==1.5.4\n",
            "param==2.2.0\n",
            "parso==0.8.4\n",
            "parsy==2.1\n",
            "partd==1.4.2\n",
            "pathlib==1.0.1\n",
            "patsy==1.0.1\n",
            "peewee==3.17.8\n",
            "peft==0.14.0\n",
            "pexpect==4.9.0\n",
            "pickleshare==0.7.5\n",
            "pillow==11.0.0\n",
            "platformdirs==4.3.6\n",
            "plotly==5.24.1\n",
            "plotnine==0.14.4\n",
            "pluggy==1.5.0\n",
            "ply==3.11\n",
            "polars==1.9.0\n",
            "pooch==1.8.2\n",
            "portpicker==1.5.2\n",
            "preshed==3.0.9\n",
            "prettytable==3.12.0\n",
            "proglog==0.1.10\n",
            "progressbar2==4.5.0\n",
            "prometheus_client==0.21.1\n",
            "promise==2.3\n",
            "prompt_toolkit==3.0.48\n",
            "propcache==0.2.1\n",
            "prophet==1.1.6\n",
            "proto-plus==1.25.0\n",
            "protobuf==4.25.5\n",
            "psutil==5.9.5\n",
            "psycopg2==2.9.10\n",
            "ptyprocess==0.7.0\n",
            "py-cpuinfo==9.0.0\n",
            "py4j==0.10.9.7\n",
            "pyarrow==17.0.0\n",
            "pyasn1==0.6.1\n",
            "pyasn1_modules==0.4.1\n",
            "pycocotools==2.0.8\n",
            "pycparser==2.22\n",
            "pydantic==2.10.3\n",
            "pydantic_core==2.27.1\n",
            "pydata-google-auth==1.9.0\n",
            "pydot==3.0.3\n",
            "pydotplus==2.0.2\n",
            "PyDrive==1.3.1\n",
            "PyDrive2==1.21.3\n",
            "pyerfa==2.0.1.5\n",
            "pygame==2.6.1\n",
            "pygit2==1.16.0\n",
            "Pygments==2.18.0\n",
            "PyGObject==3.42.1\n",
            "PyJWT==2.10.1\n",
            "pylibcudf-cu12 @ https://pypi.nvidia.com/pylibcudf-cu12/pylibcudf_cu12-24.10.1-cp310-cp310-manylinux_2_24_x86_64.manylinux_2_28_x86_64.whl\n",
            "pylibcugraph-cu12==24.10.0\n",
            "pylibraft-cu12==24.10.0\n",
            "pymc==5.19.1\n",
            "pymystem3==0.2.0\n",
            "pynndescent==0.5.13\n",
            "pynvjitlink-cu12==0.4.0\n",
            "pyogrio==0.10.0\n",
            "Pyomo==6.8.2\n",
            "PyOpenGL==3.1.7\n",
            "pyOpenSSL==24.2.1\n",
            "pyparsing==3.2.0\n",
            "pyperclip==1.9.0\n",
            "pyproj==3.7.0\n",
            "pyro-api==0.1.2\n",
            "pyro-ppl==1.9.1\n",
            "pyshp==2.3.1\n",
            "PySocks==1.7.1\n",
            "pyspark==3.5.3\n",
            "pytensor==2.26.4\n",
            "pytest==8.3.4\n",
            "python-apt==0.0.0\n",
            "python-box==7.3.0\n",
            "python-dateutil==2.8.2\n",
            "python-louvain==0.16\n",
            "python-slugify==8.0.4\n",
            "python-utils==3.9.1\n",
            "pytorch-lightning==1.9.5\n",
            "pytz==2024.2\n",
            "pyviz_comms==3.0.3\n",
            "PyYAML==6.0.2\n",
            "pyzmq==24.0.1\n",
            "qdldl==0.1.7.post4\n",
            "ratelim==0.1.6\n",
            "referencing==0.35.1\n",
            "regex==2024.11.6\n",
            "requests==2.32.3\n",
            "requests-oauthlib==1.3.1\n",
            "requests-toolbelt==1.0.0\n",
            "requirements-parser==0.9.0\n",
            "rich==13.9.4\n",
            "rmm-cu12==24.10.0\n",
            "rpds-py==0.22.3\n",
            "rpy2==3.4.2\n",
            "rsa==4.9\n",
            "safetensors==0.4.5\n",
            "scanpy==1.10.4\n",
            "scgpt==0.2.1\n",
            "scib==1.1.7\n",
            "scikit-image==0.25.0\n",
            "scikit-learn==1.6.0\n",
            "scikit-misc==0.5.1\n",
            "scipy==1.13.1\n",
            "scooby==0.10.0\n",
            "scs==3.2.7\n",
            "scvi-tools==0.20.3\n",
            "seaborn==0.13.2\n",
            "SecretStorage==3.3.1\n",
            "Send2Trash==1.8.3\n",
            "sentence-transformers==3.3.1\n",
            "sentencepiece==0.2.0\n",
            "sentry-sdk==2.19.2\n",
            "session_info==1.0.0\n",
            "setproctitle==1.3.4\n",
            "shap==0.46.0\n",
            "shapely==2.0.6\n",
            "shellingham==1.5.4\n",
            "simple-parsing==0.1.6\n",
            "six==1.17.0\n",
            "sklearn-pandas==2.2.0\n",
            "slicer==0.0.8\n",
            "smart-open==7.1.0\n",
            "smmap==5.0.1\n",
            "sniffio==1.3.1\n",
            "snowballstemmer==2.2.0\n",
            "soundfile==0.12.1\n",
            "soupsieve==2.6\n",
            "soxr==0.5.0.post1\n",
            "spacy==3.7.5\n",
            "spacy-legacy==3.0.12\n",
            "spacy-loggers==1.0.5\n",
            "Sphinx==8.1.3\n",
            "sphinxcontrib-applehelp==2.0.0\n",
            "sphinxcontrib-devhelp==2.0.0\n",
            "sphinxcontrib-htmlhelp==2.1.0\n",
            "sphinxcontrib-jsmath==1.0.1\n",
            "sphinxcontrib-qthelp==2.0.0\n",
            "sphinxcontrib-serializinghtml==2.0.0\n",
            "SQLAlchemy==2.0.36\n",
            "sqlglot==25.1.0\n",
            "sqlparse==0.5.3\n",
            "srsly==2.5.0\n",
            "stanio==0.5.1\n",
            "statsmodels==0.14.4\n",
            "stdlib-list==0.11.0\n",
            "StrEnum==0.4.15\n",
            "stringzilla==3.11.1\n",
            "sympy==1.13.1\n",
            "tables==3.10.1\n",
            "tabulate==0.9.0\n",
            "tbb==2022.0.0\n",
            "tcmlib==1.2.0\n",
            "tenacity==9.0.0\n",
            "tensorboard==2.17.1\n",
            "tensorboard-data-server==0.7.2\n",
            "tensorflow==2.17.1\n",
            "tensorflow-datasets==4.9.7\n",
            "tensorflow-hub==0.16.1\n",
            "tensorflow-io-gcs-filesystem==0.37.1\n",
            "tensorflow-metadata==1.13.1\n",
            "tensorflow-probability==0.24.0\n",
            "tensorstore==0.1.71\n",
            "termcolor==2.5.0\n",
            "terminado==0.18.1\n",
            "text-unidecode==1.3\n",
            "textblob==0.17.1\n",
            "texttable==1.7.0\n",
            "tf-slim==1.1.0\n",
            "tf_keras==2.17.0\n",
            "thinc==8.2.5\n",
            "threadpoolctl==3.5.0\n",
            "tifffile==2024.12.12\n",
            "timm==1.0.12\n",
            "tinycss2==1.4.0\n",
            "tokenizers==0.21.0\n",
            "toml==0.10.2\n",
            "tomli==2.2.1\n",
            "toolz==0.12.1\n",
            "torch==2.1.2\n",
            "torchaudio @ https://download.pytorch.org/whl/cu121/torchaudio-2.5.1%2Bcu121-cp310-cp310-linux_x86_64.whl\n",
            "torchdata==0.7.1\n",
            "torchmetrics==1.6.1\n",
            "torchsummary==1.5.1\n",
            "torchtext==0.16.2\n",
            "torchvision @ https://download.pytorch.org/whl/cu121/torchvision-0.20.1%2Bcu121-cp310-cp310-linux_x86_64.whl\n",
            "tornado==6.3.3\n",
            "tqdm==4.67.1\n",
            "traitlets==5.7.1\n",
            "traittypes==0.2.1\n",
            "transformers==4.47.1\n",
            "triton==2.1.0\n",
            "tweepy==4.14.0\n",
            "typeguard==4.4.1\n",
            "typer==0.15.1\n",
            "types-pytz==2024.2.0.20241003\n",
            "types-setuptools==75.6.0.20241223\n",
            "typing_extensions==4.12.2\n",
            "tzdata==2024.2\n",
            "tzlocal==5.2\n",
            "uc-micro-py==1.0.3\n",
            "umap-learn==0.5.7\n",
            "umf==0.9.1\n",
            "uritemplate==4.1.1\n",
            "urllib3==2.2.3\n",
            "vega-datasets==0.9.0\n",
            "wadllib==1.3.6\n",
            "wandb==0.19.1\n",
            "wasabi==1.1.3\n",
            "wcwidth==0.2.13\n",
            "weasel==0.4.1\n",
            "webcolors==24.11.1\n",
            "webencodings==0.5.1\n",
            "websocket-client==1.8.0\n",
            "websockets==14.1\n",
            "Werkzeug==3.1.3\n",
            "widgetsnbextension==3.6.10\n",
            "wordcloud==1.9.4\n",
            "wrapt==1.17.0\n",
            "xarray==2024.11.0\n",
            "xarray-einstats==0.8.0\n",
            "xgboost==2.1.3\n",
            "xlrd==2.0.1\n",
            "xxhash==3.5.0\n",
            "xyzservices==2024.9.0\n",
            "yarl==1.18.3\n",
            "yellowbrick==1.5\n",
            "yfinance==0.2.50\n",
            "zipp==3.21.0\n"
          ]
        }
      ]
    },
    {
      "cell_type": "markdown",
      "source": [
        "## Data sources (GBMAP)"
      ],
      "metadata": {
        "id": "TWnJC8U1XWVl"
      }
    },
    {
      "cell_type": "code",
      "source": [
        "# GBMAP datasets: https://cellxgene.cziscience.com/collections/999f2a15-3d7e-440b-96ae-2c806799c08c\n",
        "\n",
        "# dataset_url = \"https://datasets.cellxgene.cziscience.com/95681969-4e6d-4ba7-9854-645308b451e2.h5ad\"\n",
        "# output_path = os.path.join(data_dir, \"gbmap.h5ad\")\n",
        "# !wget -O {output_path} \"{dataset_url}\"\n",
        "\n",
        "# # URL of the extended GBmap dataset\n",
        "# url = 'https://datasets.cellxgene.cziscience.com/d36a23ec-65f6-446e-8e69-c72ccbd44d9e.h5ad'\n",
        "\n",
        "# # Path to save the dataset\n",
        "# file_path = os.path.join(data_dir, \"gbmap\", 'extended_gbmap.h5ad')\n",
        "\n",
        "# # Download the dataset\n",
        "# !wget -O {file_path} {url}"
      ],
      "metadata": {
        "id": "Pd15kyoTXU2d"
      },
      "execution_count": null,
      "outputs": []
    }
  ],
  "metadata": {
    "accelerator": "GPU",
    "colab": {
      "gpuType": "T4",
      "provenance": [],
      "include_colab_link": true
    },
    "kernelspec": {
      "display_name": "Python 3",
      "name": "python3"
    },
    "language_info": {
      "name": "python"
    }
  },
  "nbformat": 4,
  "nbformat_minor": 0
}